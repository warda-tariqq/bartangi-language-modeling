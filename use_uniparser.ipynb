{
 "cells": [
  {
   "cell_type": "code",
   "execution_count": 1,
   "metadata": {},
   "outputs": [],
   "source": [
    "from uniparser_morph import Analyzer\n",
    "a = Analyzer()\n",
    "a.load_grammar()"
   ]
  },
  {
   "cell_type": "code",
   "execution_count": 2,
   "metadata": {},
   "outputs": [],
   "source": [
    "analyses = a.analyze_words('azuminder', format='json')"
   ]
  },
  {
   "cell_type": "code",
   "execution_count": 3,
   "metadata": {},
   "outputs": [
    {
     "data": {
      "text/plain": [
       "[{'wf': 'azuminder',\n",
       "  'lemma': 'azuminder',\n",
       "  'gramm': ['adv', 'sg'],\n",
       "  'wfGlossed': 'azuminder',\n",
       "  'gloss': 'd3.det.el.adv',\n",
       "  'trans_ru': 'местоименн. наречие дальней степени: оттуда (из определенного места)'},\n",
       " {'wf': 'azuminder',\n",
       "  'lemma': 'azum',\n",
       "  'gramm': ['adv', 'loc'],\n",
       "  'wfGlossed': 'azum<inder>',\n",
       "  'gloss': '<loc>d3.el.adv',\n",
       "  'trans_ru': 'местоименн. наречие дальней степени (см. -um-): оттуда'}]"
      ]
     },
     "execution_count": 3,
     "metadata": {},
     "output_type": "execute_result"
    }
   ],
   "source": [
    "analyses"
   ]
  },
  {
   "cell_type": "code",
   "execution_count": 4,
   "metadata": {},
   "outputs": [
    {
     "data": {
      "text/plain": [
       "{'init_time': 0.0,\n",
       " 'analysis_time': 1.678520917892456,\n",
       " 'types_processed': 1864,\n",
       " 'words_per_second': 1110.501501727146,\n",
       " 'percent_parsed_tokens': 57.10716633793557}"
      ]
     },
     "execution_count": 4,
     "metadata": {},
     "output_type": "execute_result"
    }
   ],
   "source": [
    "a.analyze_wordlist()"
   ]
  }
 ],
 "metadata": {
  "kernelspec": {
   "display_name": "Python 3",
   "language": "python",
   "name": "python3"
  },
  "language_info": {
   "codemirror_mode": {
    "name": "ipython",
    "version": 3
   },
   "file_extension": ".py",
   "mimetype": "text/x-python",
   "name": "python",
   "nbconvert_exporter": "python",
   "pygments_lexer": "ipython3",
   "version": "3.12.4"
  }
 },
 "nbformat": 4,
 "nbformat_minor": 2
}
